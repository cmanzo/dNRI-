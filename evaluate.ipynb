{
 "cells": [
  {
   "cell_type": "code",
   "execution_count": 123,
   "metadata": {},
   "outputs": [],
   "source": [
    "import torch\n",
    "from torch.utils.data import DataLoader\n",
    "\n",
    "import relg"
   ]
  },
  {
   "cell_type": "code",
   "execution_count": 204,
   "metadata": {},
   "outputs": [],
   "source": [
    "dataset = relg.SynthDataLoader(\n",
    "    \"datasets\", \"train\")"
   ]
  },
  {
   "cell_type": "code",
   "execution_count": 492,
   "metadata": {},
   "outputs": [],
   "source": [
    "data = iter(dataset)"
   ]
  },
  {
   "cell_type": "code",
   "execution_count": 500,
   "metadata": {},
   "outputs": [],
   "source": [
    "d = next(data)\n",
    "inputs = d[\"inputs\"]"
   ]
  },
  {
   "cell_type": "code",
   "execution_count": 501,
   "metadata": {},
   "outputs": [
    {
     "data": {
      "text/plain": [
       "[<matplotlib.lines.Line2D at 0x17bad2219d0>]"
      ]
     },
     "execution_count": 501,
     "metadata": {},
     "output_type": "execute_result"
    },
    {
     "data": {
      "image/png": "[encoded data removed]",
      "text/plain": [
       "<Figure size 432x288 with 1 Axes>"
      ]
     },
     "metadata": {
      "needs_background": "light"
     },
     "output_type": "display_data"
    }
   ],
   "source": [
    "import matplotlib.pyplot as plt\n",
    "\n",
    "plt.plot(inputs[:, 0, 0], inputs[:, 0, 1], \"o\", color=\"red\")\n",
    "plt.plot(inputs[:, 1, 0], inputs[:, 1, 1], \"o\", color=\"red\")\n",
    "plt.plot(inputs[:, 2, 0], inputs[:, 2, 1], \"o\", color=\"blue\")\n",
    "\n",
    "plt.plot(inputs[0, 0, 0], inputs[0, 0, 1], \"o\", color=\"green\")\n",
    "plt.plot(inputs[0, 1, 0], inputs[0, 1, 1], \"o\", color=\"green\")\n",
    "plt.plot(inputs[0, 2, 0], inputs[0, 2, 1], \"o\", color=\"green\")"
   ]
  },
  {
   "cell_type": "code",
   "execution_count": 502,
   "metadata": {},
   "outputs": [],
   "source": [
    "model = torch.load(\"models/encoder\")"
   ]
  },
  {
   "cell_type": "code",
   "execution_count": 503,
   "metadata": {},
   "outputs": [],
   "source": [
    "model.eval()\n",
    "with torch.no_grad():\n",
    "    edges_p, edges_enc, _ = model(inputs[None, ...].cuda())\n",
    "\n",
    "edges_p = edges_p.cpu().detach()\n",
    "edges_enc = edges_enc.cpu().detach()"
   ]
  },
  {
   "cell_type": "code",
   "execution_count": 504,
   "metadata": {},
   "outputs": [],
   "source": [
    "import numpy as np\n",
    "ep = np.argmax(edges_p, axis=-1)\n",
    "ec = np.argmax(edges_enc, axis=-1)"
   ]
  },
  {
   "cell_type": "code",
   "execution_count": 505,
   "metadata": {},
   "outputs": [
    {
     "data": {
      "text/plain": [
       "<matplotlib.image.AxesImage at 0x17bad308340>"
      ]
     },
     "execution_count": 505,
     "metadata": {},
     "output_type": "execute_result"
    },
    {
     "data": {
      "image/png": "[encoded data removed]",
      "text/plain": [
       "<Figure size 432x288 with 3 Axes>"
      ]
     },
     "metadata": {
      "needs_background": "light"
     },
     "output_type": "display_data"
    }
   ],
   "source": [
    "plt.subplot(131)    \n",
    "plt.imshow(d[\"edges\"])\n",
    "\n",
    "plt.subplot(132)\n",
    "plt.imshow(ep[0])\n",
    "\n",
    "plt.subplot(133)\n",
    "plt.imshow(ec[0])"
   ]
  },
  {
   "cell_type": "code",
   "execution_count": 506,
   "metadata": {},
   "outputs": [
    {
     "data": {
      "text/plain": [
       "0.7096769610408781"
      ]
     },
     "execution_count": 506,
     "metadata": {},
     "output_type": "execute_result"
    }
   ],
   "source": [
    "full_edge_count = 0.\n",
    "correct_edges = 0.\n",
    "edge_count = 0.\n",
    "correct_0_edges = 0.\n",
    "edge_0_count = 0.\n",
    "correct_1_edges = 0.\n",
    "edge_1_count = 0.\n",
    "correct = num_predicted = num_gt = 0\n",
    "\n",
    "edge_count += ep[0].numel()\n",
    "full_edge_count += d[\"edges\"].numel()\n",
    "correct_edges += ((ep[0] == d[\"edges\"])).sum().item()\n",
    "edge_0_count += (d[\"edges\"] == 0).sum().item()\n",
    "edge_1_count += (d[\"edges\"] == 1).sum().item()\n",
    "correct_0_edges += ((ep[0] == d[\"edges\"])*(d[\"edges\"] == 0)).sum().item()\n",
    "correct_1_edges += ((ep[0] == d[\"edges\"])*(d[\"edges\"] == 1)).sum().item()\n",
    "correct += (ep[0]*d[\"edges\"]).sum().item()\n",
    "num_predicted += ep[0].sum().item()\n",
    "num_gt += d[\"edges\"].sum().item()\n",
    "prec = correct / (num_predicted + 1e-8)\n",
    "rec = correct / (num_gt + 1e-8)\n",
    "f1 = 2*prec*rec / (prec+rec+1e-6)\n",
    "\n",
    "f1"
   ]
  }
 ],
 "metadata": {
  "kernelspec": {
   "display_name": "Python 3",
   "language": "python",
   "name": "python3"
  },
  "language_info": {
   "codemirror_mode": {
    "name": "ipython",
    "version": 3
   },
   "file_extension": ".py",
   "mimetype": "text/x-python",
   "name": "python",
   "nbconvert_exporter": "python",
   "pygments_lexer": "ipython3",
   "version": "3.8.6"
  },
  "orig_nbformat": 4
 },
 "nbformat": 4,
 "nbformat_minor": 2
}
