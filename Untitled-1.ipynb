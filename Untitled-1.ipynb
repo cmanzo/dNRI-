{
 "cells": [
  {
   "cell_type": "code",
   "execution_count": null,
   "metadata": {},
   "outputs": [],
   "source": [
    "import relg\n",
    "\n",
    "import time\n",
    "import numpy as np"
   ]
  },
  {
   "cell_type": "code",
   "execution_count": null,
   "metadata": {},
   "outputs": [],
   "source": [
    "def generate_dataset(sim, num_sims, length, sample_freq):\n",
    "    loc_all = list()\n",
    "    vel_all = list()\n",
    "    edges_all = list()\n",
    "\n",
    "    for i in range(num_sims):\n",
    "        t = time.time()\n",
    "        loc, vel, edges = sim.sample_trajectory(\n",
    "            T=length,\n",
    "            sample_freq=sample_freq,\n",
    "        )\n",
    "        if i % 100 == 0:\n",
    "            print(\"Iter: {}, Simulation time: {}\".format(i, time.time() - t))\n",
    "        loc_all.append(loc)\n",
    "        vel_all.append(vel)\n",
    "        edges_all.append(edges)\n",
    "\n",
    "    loc_all = np.stack(loc_all)\n",
    "    vel_all = np.stack(vel_all)\n",
    "    edges_all = np.stack(edges_all)\n",
    "\n",
    "    return loc_all, vel_all, edges_all"
   ]
  },
  {
   "cell_type": "code",
   "execution_count": null,
   "metadata": {},
   "outputs": [],
   "source": [
    "simulation = \"springs\"\n",
    "nobjects = 5\n",
    "\n",
    "if simulation == \"springs\":\n",
    "    sim = relg.SpringSim(noise_var=0.0, n_balls=nobjects)\n",
    "elif simulation == \"charged\":\n",
    "    sim = relg.ChargedParticlesSim(noise_var=0.0, n_balls=nobjects)\n",
    "else:\n",
    "    raise ValueError(\n",
    "        \"Simulation {} not implemented\".format(simulation),\n",
    "    )\n",
    "\n",
    "suffix = f\"_{simulation}_{nobjects}\""
   ]
  },
  {
   "cell_type": "code",
   "execution_count": null,
   "metadata": {},
   "outputs": [],
   "source": [
    "train_sample_size = 10\n",
    "\n",
    "trajectory_length = 5000\n",
    "sample_freq = 100\n",
    "\n",
    "print(\n",
    "    \"Generating {} training simulations\".format(train_sample_size),\n",
    ")\n",
    "loc_train, vel_train, edges_train = generate_dataset(\n",
    "    sim,\n",
    "    train_sample_size,\n",
    "    trajectory_length,\n",
    "    sample_freq,\n",
    ")\n",
    "\n",
    "loc_train = np.transpose(loc_train, [0, 3, 1, 2])\n",
    "vel_train = np.transpose(vel_train, [0, 3, 1, 2])"
   ]
  },
  {
   "cell_type": "code",
   "execution_count": null,
   "metadata": {},
   "outputs": [],
   "source": [
    "np.transpose(loc_train, [0, 3, 1, 2]).shape"
   ]
  },
  {
   "cell_type": "code",
   "execution_count": null,
   "metadata": {},
   "outputs": [],
   "source": [
    "num_atoms = loc_train.shape[3]\n",
    "\n",
    "_edges_train = np.reshape(edges_train, [-1, num_atoms ** 2])\n",
    "_edges_train = np.array((_edges_train + 1) / 2, dtype=np.int64)"
   ]
  },
  {
   "cell_type": "code",
   "execution_count": null,
   "metadata": {},
   "outputs": [],
   "source": [
    "off_diag_idx = np.ravel_multi_index(\n",
    "        np.where(np.ones((num_atoms, num_atoms)) - np.eye(num_atoms)),\n",
    "        [num_atoms, num_atoms])"
   ]
  },
  {
   "cell_type": "code",
   "execution_count": null,
   "metadata": {},
   "outputs": [],
   "source": [
    "off_diag_idx"
   ]
  },
  {
   "cell_type": "code",
   "execution_count": null,
   "metadata": {},
   "outputs": [],
   "source": [
    "_edges_train[:, off_diag_idx]"
   ]
  },
  {
   "cell_type": "code",
   "execution_count": null,
   "metadata": {},
   "outputs": [],
   "source": [
    "import torch \n",
    "from torch.utils.data import Dataset\n",
    "import os\n",
    "\n",
    "class SmallSynthData(Dataset):\n",
    "    def __init__(self, data_path, mode, params):\n",
    "        self.mode = mode\n",
    "        self.data_path = data_path\n",
    "        if self.mode == 'train':\n",
    "            path = os.path.join(data_path, 'train_feats')\n",
    "            edge_path = os.path.join(data_path, 'train_edges')\n",
    "        elif self.mode == 'val':\n",
    "            path = os.path.join(data_path, 'val_feats')\n",
    "            edge_path = os.path.join(data_path, 'val_edges')\n",
    "        elif self.mode == 'test':\n",
    "            path = os.path.join(data_path, 'test_feats')\n",
    "            edge_path = os.path.join(data_path, 'test_edges')\n",
    "        self.feats = torch.load(path)\n",
    "        self.edges = torch.load(edge_path)\n",
    "        self.same_norm = params['same_data_norm']\n",
    "        self.no_norm = params['no_data_norm']\n",
    "        if not self.no_norm:\n",
    "            self._normalize_data()\n",
    "\n",
    "    def _normalize_data(self):\n",
    "        train_data = torch.load(os.path.join(self.data_path, 'train_feats'))\n",
    "        if self.same_norm:\n",
    "            self.feat_max = train_data.max()\n",
    "            self.feat_min = train_data.min()\n",
    "            self.feats = (self.feats - self.feat_min)*2/(self.feat_max-self.feat_min) - 1\n",
    "        else:\n",
    "            self.loc_max = train_data[:, :, :, :2].max()\n",
    "            self.loc_min = train_data[:, :, :, :2].min()\n",
    "            self.vel_max = train_data[:, :, :, 2:].max()\n",
    "            self.vel_min = train_data[:, :, :, 2:].min()\n",
    "            self.feats[:,:,:, :2] = (self.feats[:,:,:,:2]-self.loc_min)*2/(self.loc_max - self.loc_min) - 1\n",
    "            self.feats[:,:,:,2:] = (self.feats[:,:,:,2:]-self.vel_min)*2/(self.vel_max-self.vel_min)-1\n",
    "\n",
    "    def unnormalize(self, data):\n",
    "        if self.no_norm:\n",
    "            return data\n",
    "        elif self.same_norm:\n",
    "            return (data + 1) * (self.feat_max - self.feat_min) / 2. + self.feat_min\n",
    "        else:\n",
    "            result1 = (data[:, :, :, :2] + 1) * (self.loc_max - self.loc_min) / 2. + self.loc_min\n",
    "            result2 = (data[:, :, :, 2:] + 1) * (self.vel_max - self.vel_min) / 2. + self.vel_min\n",
    "            return np.concatenate([result1, result2], axis=-1)\n",
    "\n",
    "\n",
    "    def __getitem__(self, idx):\n",
    "        return {'inputs': self.feats[idx], 'edges':self.edges[idx]}\n",
    "\n",
    "    def __len__(self):\n",
    "        return len(self.feats)"
   ]
  },
  {
   "cell_type": "code",
   "execution_count": null,
   "metadata": {},
   "outputs": [],
   "source": [
    "dataset = relg.SmallSynthData(\"datasets\", 'train', {\"same_data_norm\": False, \"no_data_norm\": None})"
   ]
  },
  {
   "cell_type": "code",
   "execution_count": null,
   "metadata": {},
   "outputs": [],
   "source": [
    "next(iter(dataset))[\"inputs\"]"
   ]
  },
  {
   "cell_type": "code",
   "execution_count": null,
   "metadata": {},
   "outputs": [],
   "source": [
    "edges = np.ones(3) - np.eye(3)\n",
    "send_edges = np.where(edges)[0]\n",
    "recv_edges = np.where(edges)[1]"
   ]
  },
  {
   "cell_type": "code",
   "execution_count": null,
   "metadata": {},
   "outputs": [],
   "source": [
    "def encode_onehot(labels):\n",
    "    classes = set(labels)\n",
    "    classes_dict = {c: np.identity(len(classes))[i, :] for i, c in enumerate(classes)}\n",
    "    labels_onehot = np.array(list(map(classes_dict.get, labels)), dtype=np.int32)\n",
    "    return labels_onehot\n"
   ]
  },
  {
   "cell_type": "code",
   "execution_count": null,
   "metadata": {},
   "outputs": [],
   "source": [
    "encode_onehot(recv_edges)"
   ]
  },
  {
   "cell_type": "code",
   "execution_count": null,
   "metadata": {},
   "outputs": [],
   "source": [
    "from torch import nn"
   ]
  },
  {
   "cell_type": "code",
   "execution_count": null,
   "metadata": {},
   "outputs": [],
   "source": [
    "nn.Parameter(\n",
    "            torch.FloatTensor(encode_onehot(recv_edges).transpose()),\n",
    "            requires_grad=False,\n",
    "        )"
   ]
  },
  {
   "cell_type": "code",
   "execution_count": null,
   "metadata": {},
   "outputs": [],
   "source": [
    "z = torch.randn(8, 3, 10, 2)"
   ]
  },
  {
   "cell_type": "code",
   "execution_count": null,
   "metadata": {},
   "outputs": [],
   "source": [
    "z.transpose(2, 1).contiguous().shape"
   ]
  },
  {
   "cell_type": "code",
   "execution_count": null,
   "metadata": {},
   "outputs": [],
   "source": [
    "from torch import nn"
   ]
  },
  {
   "cell_type": "code",
   "execution_count": null,
   "metadata": {},
   "outputs": [],
   "source": [
    "l = nn.LSTM(64, 64, batch_first=True)"
   ]
  },
  {
   "cell_type": "code",
   "execution_count": null,
   "metadata": {},
   "outputs": [],
   "source": [
    "z = torch.randn(8, 10, 64)"
   ]
  },
  {
   "cell_type": "code",
   "execution_count": null,
   "metadata": {},
   "outputs": [],
   "source": [
    "o1, o2 = l(z)"
   ]
  },
  {
   "cell_type": "code",
   "execution_count": null,
   "metadata": {},
   "outputs": [],
   "source": [
    "o1.shape"
   ]
  },
  {
   "cell_type": "code",
   "execution_count": 1,
   "metadata": {},
   "outputs": [],
   "source": [
    "import relg"
   ]
  },
  {
   "cell_type": "code",
   "execution_count": 2,
   "metadata": {},
   "outputs": [],
   "source": [
    "encoder = relg.models.Decoder(\n",
    "    input_dim=4,\n",
    "    hidden_dim=64,\n",
    "    num_objects=3,\n",
    "    num_edge_types=3,\n",
    ")"
   ]
  },
  {
   "cell_type": "code",
   "execution_count": 11,
   "metadata": {},
   "outputs": [
    {
     "data": {
      "text/plain": [
       "torch.Size([8, 3, 64])"
      ]
     },
     "execution_count": 11,
     "metadata": {},
     "output_type": "execute_result"
    }
   ],
   "source": [
    "import torch\n",
    "inputs = torch.randn(8, 3, 4)\n",
    "hiddens = torch.randn(8, 3, 64)\n",
    "edgesf = torch.randn(8, 6, 3)\n",
    "encoder(inputs, hiddens, edgesf)[1].shape"
   ]
  },
  {
   "cell_type": "code",
   "execution_count": 4,
   "metadata": {},
   "outputs": [],
   "source": [
    "import numpy as np\n",
    "from torch import nn\n",
    "\n",
    "\n",
    "def encode_onehot(labels):\n",
    "    classes = set(labels)\n",
    "    classes_dict = {c: np.identity(len(classes))[i, :] for i, c in enumerate(classes)}\n",
    "    labels_onehot = np.array(list(map(classes_dict.get, labels)), dtype=np.int32)\n",
    "    return labels_onehot\n",
    "\n",
    "edges = np.ones(3) - np.eye(3)\n",
    "send_edges = np.where(edges)[0]\n",
    "recv_edges = np.where(edges)[1]\n",
    "\n",
    "edge2node_mat = nn.Parameter(\n",
    "            torch.FloatTensor(\n",
    "                encode_onehot(recv_edges).transpose(),\n",
    "            ),\n",
    "            requires_grad=False,\n",
    "        )"
   ]
  },
  {
   "cell_type": "code",
   "execution_count": 5,
   "metadata": {},
   "outputs": [
    {
     "data": {
      "text/plain": [
       "torch.Size([3, 6])"
      ]
     },
     "execution_count": 5,
     "metadata": {},
     "output_type": "execute_result"
    }
   ],
   "source": [
    "edge2node_mat.shape"
   ]
  },
  {
   "cell_type": "code",
   "execution_count": 6,
   "metadata": {},
   "outputs": [
    {
     "data": {
      "text/plain": [
       "tensor([[[-0.7651,  0.2843, -0.0388,  ..., -0.2320,  1.4379,  0.7490],\n",
       "         [-0.4536,  0.6781, -0.9703,  ..., -0.8194,  3.3747,  0.1665],\n",
       "         [-0.5535, -0.6488, -0.7841,  ..., -1.7051,  2.0720, -0.8003]],\n",
       "\n",
       "        [[ 0.6678,  1.1954,  0.6067,  ..., -1.5256, -0.0294, -0.1141],\n",
       "         [-1.7200,  0.2290,  1.5642,  ..., -3.3195,  0.8546, -0.5150],\n",
       "         [ 0.1222,  2.2425, -0.2941,  ...,  3.7068, -0.0525, -1.9594]],\n",
       "\n",
       "        [[ 1.6954, -3.8929, -1.6319,  ...,  1.3852, -1.7527, -0.2604],\n",
       "         [-0.6626, -1.4667, -0.9470,  ..., -3.0094,  1.5733, -1.3428],\n",
       "         [ 2.0411, -0.4008,  2.2666,  ...,  2.5074,  0.8329, -0.2590]],\n",
       "\n",
       "        ...,\n",
       "\n",
       "        [[-0.0711,  0.6353,  2.1946,  ..., -3.3038,  1.0147, -2.0492],\n",
       "         [ 0.6742, -0.1992,  1.9056,  ...,  0.2868, -1.2637, -0.3676],\n",
       "         [ 0.6002,  0.6011, -0.9073,  ..., -1.6150, -4.6424,  2.3048]],\n",
       "\n",
       "        [[-1.1163, -2.0986,  1.3911,  ..., -0.5495,  0.3949, -1.9372],\n",
       "         [ 0.6155,  3.5560,  0.5999,  ...,  1.4485,  0.6128, -0.0277],\n",
       "         [ 0.6608,  1.1087, -2.3881,  ..., -0.2352,  2.1338, -0.1852]],\n",
       "\n",
       "        [[ 2.3528,  0.5232, -0.2877,  ..., -2.2721, -2.6993,  0.8991],\n",
       "         [-1.7030, -3.0898,  0.4994,  ...,  1.0668, -0.9449,  0.1816],\n",
       "         [-0.9929,  2.4884, -1.1292,  ...,  0.8045,  0.4650,  1.5352]]])"
      ]
     },
     "execution_count": 6,
     "metadata": {},
     "output_type": "execute_result"
    }
   ],
   "source": [
    "l =edge2node_mat.transpose(-2, -1)\n",
    "p= torch.randn(8, 6, 64)\n",
    "p.transpose(-2, -1).matmul(l).transpose(-2, -1)"
   ]
  },
  {
   "cell_type": "code",
   "execution_count": 7,
   "metadata": {},
   "outputs": [
    {
     "data": {
      "text/plain": [
       "tensor([[[-0.7651,  0.2843, -0.0388,  ..., -0.2320,  1.4379,  0.7490],\n",
       "         [-0.4536,  0.6781, -0.9703,  ..., -0.8194,  3.3747,  0.1665],\n",
       "         [-0.5535, -0.6488, -0.7841,  ..., -1.7051,  2.0720, -0.8003]],\n",
       "\n",
       "        [[ 0.6678,  1.1954,  0.6067,  ..., -1.5256, -0.0294, -0.1141],\n",
       "         [-1.7200,  0.2290,  1.5642,  ..., -3.3195,  0.8546, -0.5150],\n",
       "         [ 0.1222,  2.2425, -0.2941,  ...,  3.7068, -0.0525, -1.9594]],\n",
       "\n",
       "        [[ 1.6954, -3.8929, -1.6319,  ...,  1.3852, -1.7527, -0.2604],\n",
       "         [-0.6626, -1.4667, -0.9470,  ..., -3.0094,  1.5733, -1.3428],\n",
       "         [ 2.0411, -0.4008,  2.2666,  ...,  2.5074,  0.8329, -0.2590]],\n",
       "\n",
       "        ...,\n",
       "\n",
       "        [[-0.0711,  0.6353,  2.1946,  ..., -3.3038,  1.0147, -2.0492],\n",
       "         [ 0.6742, -0.1992,  1.9056,  ...,  0.2868, -1.2637, -0.3676],\n",
       "         [ 0.6002,  0.6011, -0.9073,  ..., -1.6150, -4.6424,  2.3048]],\n",
       "\n",
       "        [[-1.1163, -2.0986,  1.3911,  ..., -0.5495,  0.3949, -1.9372],\n",
       "         [ 0.6155,  3.5560,  0.5999,  ...,  1.4485,  0.6128, -0.0277],\n",
       "         [ 0.6608,  1.1087, -2.3881,  ..., -0.2352,  2.1338, -0.1852]],\n",
       "\n",
       "        [[ 2.3528,  0.5232, -0.2877,  ..., -2.2721, -2.6993,  0.8991],\n",
       "         [-1.7030, -3.0898,  0.4994,  ...,  1.0668, -0.9449,  0.1816],\n",
       "         [-0.9929,  2.4884, -1.1292,  ...,  0.8045,  0.4650,  1.5352]]])"
      ]
     },
     "execution_count": 7,
     "metadata": {},
     "output_type": "execute_result"
    }
   ],
   "source": [
    "torch.matmul(edge2node_mat, p)"
   ]
  },
  {
   "cell_type": "code",
   "execution_count": 14,
   "metadata": {},
   "outputs": [],
   "source": [
    "edges = torch.randn(8, 10, 3, 3)"
   ]
  },
  {
   "cell_type": "code",
   "execution_count": 8,
   "metadata": {},
   "outputs": [
    {
     "data": {
      "text/plain": [
       "torch.Size([3, 6])"
      ]
     },
     "execution_count": 8,
     "metadata": {},
     "output_type": "execute_result"
    }
   ],
   "source": [
    "edge2node_mat.shape"
   ]
  },
  {
   "cell_type": "code",
   "execution_count": 17,
   "metadata": {},
   "outputs": [],
   "source": [
    "prior = np.zeros(3)\n",
    "prior.fill((1 - 0.8)/(3 - 1))\n",
    "prior[0] = 0.8\n",
    "# log_prior = torch.FloatTensor(np.log(prior))\n",
    "# log_prior = torch.unsqueeze(log_prior, 0)\n",
    "# log_prior = torch.unsqueeze(log_prior, 0)\n",
    "# log_prior = log_prior.cuda(non_blocking=True)\n",
    "# log_prior = log_prior\n",
    "# print(\"USING NO EDGE PRIOR: \",log_prior)"
   ]
  },
  {
   "cell_type": "code",
   "execution_count": 20,
   "metadata": {},
   "outputs": [
    {
     "data": {
      "text/plain": [
       "tensor([-1.0986, -1.0986, -1.0986])"
      ]
     },
     "execution_count": 20,
     "metadata": {},
     "output_type": "execute_result"
    }
   ],
   "source": [
    "prior = np.zeros(3)\n",
    "prior.fill(1.0/3)\n",
    "log_prior = torch.FloatTensor(np.log(prior))\n",
    "log_prior"
   ]
  }
 ],
 "metadata": {
  "kernelspec": {
   "display_name": "Python 3",
   "language": "python",
   "name": "python3"
  },
  "language_info": {
   "codemirror_mode": {
    "name": "ipython",
    "version": 3
   },
   "file_extension": ".py",
   "mimetype": "text/x-python",
   "name": "python",
   "nbconvert_exporter": "python",
   "pygments_lexer": "ipython3",
   "version": "3.8.6"
  },
  "orig_nbformat": 4
 },
 "nbformat": 4,
 "nbformat_minor": 2
}
